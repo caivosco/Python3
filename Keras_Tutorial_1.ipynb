{
 "cells": [
  {
   "cell_type": "code",
   "execution_count": 1,
   "metadata": {},
   "outputs": [],
   "source": [
    "# Ref https://cv-tricks.com/tensorflow-tutorial/keras/"
   ]
  },
  {
   "cell_type": "markdown",
   "metadata": {},
   "source": [
    "### configuring the environment"
   ]
  },
  {
   "cell_type": "code",
   "execution_count": 2,
   "metadata": {},
   "outputs": [
    {
     "name": "stdout",
     "output_type": "stream",
     "text": [
      "h5py==2.8.0\r\n",
      "scipy==1.1.0\r\n",
      "tensorboard==1.10.0\r\n",
      "tensorflow==1.10.0\r\n"
     ]
    }
   ],
   "source": [
    "# checking tensorflow and \"also\" another dependencies\n",
    "! pip freeze | grep -E 'scipy|h5py|pillow|tensor'"
   ]
  },
  {
   "cell_type": "code",
   "execution_count": 5,
   "metadata": {},
   "outputs": [
    {
     "name": "stdout",
     "output_type": "stream",
     "text": [
      "Using TensorFlow backend.\n",
      "2.2.2\n"
     ]
    }
   ],
   "source": [
    "# checking version of keras \n",
    "! python -c 'import keras; print(keras.__version__)'"
   ]
  },
  {
   "cell_type": "code",
   "execution_count": 6,
   "metadata": {},
   "outputs": [
    {
     "name": "stdout",
     "output_type": "stream",
     "text": [
      "1.10.0\n"
     ]
    }
   ],
   "source": [
    "# checking version of tensoflow\n",
    "! python -c 'import tensorflow as tf; print(tf.__version__)'"
   ]
  },
  {
   "cell_type": "code",
   "execution_count": 8,
   "metadata": {},
   "outputs": [
    {
     "name": "stdout",
     "output_type": "stream",
     "text": [
      "{\r\n",
      "    \"backend\": \"tensorflow\",\r\n",
      "    \"image_data_format\": \"channels_last\",\r\n",
      "    \"floatx\": \"float32\",\r\n",
      "    \"epsilon\": 1e-07\r\n",
      "}"
     ]
    }
   ],
   "source": [
    "# checking which backend is configured in keras\n",
    "! cat /home/ivan/.keras/keras.json"
   ]
  },
  {
   "cell_type": "code",
   "execution_count": 9,
   "metadata": {},
   "outputs": [],
   "source": [
    "# obs. for tensorflow image_data_format is \"channels_last\", for theano is \"channels_first\""
   ]
  },
  {
   "cell_type": "markdown",
   "metadata": {},
   "source": [
    "### fundamentals of keras"
   ]
  },
  {
   "cell_type": "code",
   "execution_count": 10,
   "metadata": {},
   "outputs": [
    {
     "name": "stderr",
     "output_type": "stream",
     "text": [
      "Using TensorFlow backend.\n"
     ]
    }
   ],
   "source": [
    "import keras"
   ]
  },
  {
   "cell_type": "code",
   "execution_count": 11,
   "metadata": {},
   "outputs": [],
   "source": [
    "# the main data structure in keras is the model\n",
    "# Model defines the complete graph, so you can add layers to the existing model/ graph to build the networks you want "
   ]
  },
  {
   "cell_type": "code",
   "execution_count": 12,
   "metadata": {},
   "outputs": [],
   "source": [
    "# two ways of building models: sequential (adding layers) and functional API (multiple output, DirectAcyclicGraph DAC, etc)"
   ]
  },
  {
   "cell_type": "code",
   "execution_count": 13,
   "metadata": {},
   "outputs": [],
   "source": [
    "# now, we'll use a sequential model\n",
    "from keras.models import Sequential\n",
    "model = Sequential()"
   ]
  },
  {
   "cell_type": "code",
   "execution_count": 14,
   "metadata": {},
   "outputs": [],
   "source": [
    "# we can add layers like Dense(fully connected layer), Activation, Conv2D, MaxPooling2D, etc...how? calling add function"
   ]
  },
  {
   "cell_type": "code",
   "execution_count": 15,
   "metadata": {},
   "outputs": [],
   "source": [
    "from keras.layers import Dense, Activation, Conv2D, MaxPooling2D, Flatten, Dropout"
   ]
  },
  {
   "cell_type": "code",
   "execution_count": 16,
   "metadata": {},
   "outputs": [],
   "source": [
    "model.add(Conv2D(64, (3,3), activation='relu')) # Conv layer with 64 filters of size 3*3 "
   ]
  },
  {
   "cell_type": "code",
   "execution_count": 17,
   "metadata": {},
   "outputs": [],
   "source": [
    "model.add(MaxPooling2D(pool_size=(2,2))) # Pool layer of 2D with size of 2*2"
   ]
  },
  {
   "cell_type": "code",
   "execution_count": 18,
   "metadata": {},
   "outputs": [],
   "source": [
    "model.add(Dense(256, activation='relu')) # fully connected layer is Dense layer, here with 256 outputs"
   ]
  },
  {
   "cell_type": "code",
   "execution_count": 19,
   "metadata": {},
   "outputs": [],
   "source": [
    "model.add(Dropout(0.5))  # Dropout is used to avoid overfitting"
   ]
  },
  {
   "cell_type": "code",
   "execution_count": 20,
   "metadata": {},
   "outputs": [],
   "source": [
    "model.add(Flatten())  # and finally the flatten layer"
   ]
  },
  {
   "cell_type": "code",
   "execution_count": 21,
   "metadata": {},
   "outputs": [],
   "source": [
    "# suppose you have data input of size 224*224*3\n",
    "# so, for the first layer of NN, we have to read data input\n",
    "model.add(Conv2D(32, (3,3), activation='relu', input_shape=(224,224,3)))"
   ]
  },
  {
   "cell_type": "code",
   "execution_count": 22,
   "metadata": {},
   "outputs": [],
   "source": [
    "# for back-propagation btw : rmsprop , adagrad you choose rmsprop\n",
    "# for loss funtcion btw : logloss, rmse, categorical_crossentropy you choose categorical_crossentropy \n",
    "model.compile(loss='binary_crossentropy', optimizer='rmsprop')"
   ]
  },
  {
   "cell_type": "code",
   "execution_count": 23,
   "metadata": {},
   "outputs": [],
   "source": [
    "# probably you could have specified  stochastic gradient descent \n",
    "# then should have initialized the hyperparameters\n",
    "from keras.optimizers import SGD \n",
    "\n",
    "sgd = SGD(lr=0.01, decay=1e-6, momentum=0.9, nesterov=True)\n",
    "model.compile(loss='categorical_crossentropy', optimizer=sgd)"
   ]
  },
  {
   "cell_type": "code",
   "execution_count": 24,
   "metadata": {},
   "outputs": [],
   "source": [
    "# now, we having created our model, we feed it with data via fit function\n",
    "# model.fit(x_train, y_train, batch_size=32, epochs=10, validation_data=(x_val, y_val))"
   ]
  },
  {
   "cell_type": "code",
   "execution_count": 25,
   "metadata": {},
   "outputs": [],
   "source": [
    "# finally, we'll use evaluate function to test the model\n",
    "# score = model.evaluate(x_test, y_test, batch_size=32)"
   ]
  },
  {
   "cell_type": "markdown",
   "metadata": {},
   "source": [
    "### a linear regression problem with keras"
   ]
  },
  {
   "cell_type": "code",
   "execution_count": 26,
   "metadata": {},
   "outputs": [],
   "source": [
    "import keras\n",
    "from keras.models import Sequential\n",
    "from keras.layers import Dense\n",
    "import numpy as np"
   ]
  },
  {
   "cell_type": "code",
   "execution_count": 27,
   "metadata": {},
   "outputs": [],
   "source": [
    "trX = np.linspace(-1,1, 101)"
   ]
  },
  {
   "cell_type": "code",
   "execution_count": 28,
   "metadata": {},
   "outputs": [
    {
     "data": {
      "text/plain": [
       "array([-1.  , -0.98, -0.96, -0.94, -0.92, -0.9 , -0.88, -0.86, -0.84,\n",
       "       -0.82, -0.8 , -0.78, -0.76, -0.74, -0.72, -0.7 , -0.68, -0.66,\n",
       "       -0.64, -0.62, -0.6 , -0.58, -0.56, -0.54, -0.52, -0.5 , -0.48,\n",
       "       -0.46, -0.44, -0.42, -0.4 , -0.38, -0.36, -0.34, -0.32, -0.3 ,\n",
       "       -0.28, -0.26, -0.24, -0.22, -0.2 , -0.18, -0.16, -0.14, -0.12,\n",
       "       -0.1 , -0.08, -0.06, -0.04, -0.02,  0.  ,  0.02,  0.04,  0.06,\n",
       "        0.08,  0.1 ,  0.12,  0.14,  0.16,  0.18,  0.2 ,  0.22,  0.24,\n",
       "        0.26,  0.28,  0.3 ,  0.32,  0.34,  0.36,  0.38,  0.4 ,  0.42,\n",
       "        0.44,  0.46,  0.48,  0.5 ,  0.52,  0.54,  0.56,  0.58,  0.6 ,\n",
       "        0.62,  0.64,  0.66,  0.68,  0.7 ,  0.72,  0.74,  0.76,  0.78,\n",
       "        0.8 ,  0.82,  0.84,  0.86,  0.88,  0.9 ,  0.92,  0.94,  0.96,\n",
       "        0.98,  1.  ])"
      ]
     },
     "execution_count": 28,
     "metadata": {},
     "output_type": "execute_result"
    }
   ],
   "source": [
    "trX"
   ]
  },
  {
   "cell_type": "code",
   "execution_count": 29,
   "metadata": {},
   "outputs": [
    {
     "data": {
      "text/plain": [
       "101"
      ]
     },
     "execution_count": 29,
     "metadata": {},
     "output_type": "execute_result"
    }
   ],
   "source": [
    "len(trX)"
   ]
  },
  {
   "cell_type": "code",
   "execution_count": 30,
   "metadata": {},
   "outputs": [],
   "source": [
    "trY = 3 * trX + np.random.randn(*trX.shape) * 0.33"
   ]
  },
  {
   "cell_type": "code",
   "execution_count": 37,
   "metadata": {},
   "outputs": [
    {
     "data": {
      "text/plain": [
       "array([-3.38185896, -3.02164956, -3.41982921, -2.95610581, -2.94439599,\n",
       "       -2.65270311, -2.32441846, -2.53936066, -2.51090163, -2.36272598,\n",
       "       -1.65510411, -2.8454614 , -2.30158992, -2.14053788, -2.01033242,\n",
       "       -2.1038599 , -2.19261151, -2.31137019, -1.77307937, -1.88878837,\n",
       "       -1.60942171, -2.49003766, -1.47162921, -1.43072913, -1.20975787,\n",
       "       -0.8846207 , -1.11041667, -1.37795287, -1.41696619, -1.32079731,\n",
       "       -0.98087798, -1.75170488, -1.01256009, -1.05392971, -0.75277519,\n",
       "       -0.98695979, -1.2138345 , -0.18297119, -0.660635  , -0.37589303,\n",
       "       -0.62919245, -0.65030097, -0.57847865, -0.72390974, -0.08915873,\n",
       "       -0.65013875, -0.49824477, -0.19885018,  0.02070712, -0.42633237,\n",
       "       -0.79540009, -0.19632031, -0.43444909,  0.19021507,  0.05814686,\n",
       "        0.49106008, -0.28038716,  0.87723727,  0.42890771,  0.46770754,\n",
       "        0.47241184,  0.32972036,  1.04609026,  0.75012717,  0.86099541,\n",
       "        0.88040096,  0.52213136,  0.95638775,  0.96590362,  1.77807397,\n",
       "        0.93515431,  1.1531479 ,  0.84450791,  1.47713733,  1.82082271,\n",
       "        0.96880781,  1.41431783,  1.8134575 ,  2.23335094,  1.62813346,\n",
       "        2.02991218,  2.0138107 ,  1.85728435,  1.76922744,  2.03934825,\n",
       "        2.12035609,  1.82614736,  1.90402373,  2.67916994,  2.4411053 ,\n",
       "        2.67235402,  1.90145747,  2.3224609 ,  2.53052742,  3.31328988,\n",
       "        2.96193017,  3.34118733,  2.88154541,  3.169622  ,  3.62327302,\n",
       "        3.1906271 ])"
      ]
     },
     "execution_count": 37,
     "metadata": {},
     "output_type": "execute_result"
    }
   ],
   "source": [
    "trY"
   ]
  },
  {
   "cell_type": "code",
   "execution_count": 38,
   "metadata": {},
   "outputs": [],
   "source": [
    "# creating the model"
   ]
  },
  {
   "cell_type": "code",
   "execution_count": 39,
   "metadata": {},
   "outputs": [],
   "source": [
    "model = Sequential()"
   ]
  },
  {
   "cell_type": "code",
   "execution_count": 40,
   "metadata": {},
   "outputs": [
    {
     "name": "stderr",
     "output_type": "stream",
     "text": [
      "/home/ivan/Environments/CV/lib/python3.5/site-packages/ipykernel_launcher.py:1: UserWarning: Update your `Dense` call to the Keras 2 API: `Dense(units=1, kernel_initializer=\"uniform\", activation=\"linear\", input_dim=1)`\n",
      "  \"\"\"Entry point for launching an IPython kernel.\n"
     ]
    }
   ],
   "source": [
    "model.add(Dense(input_dim=1, output_dim=1, init='uniform', activation='linear'))"
   ]
  },
  {
   "cell_type": "code",
   "execution_count": 41,
   "metadata": {},
   "outputs": [],
   "source": [
    "weights = model.layers[0].get_weights()"
   ]
  },
  {
   "cell_type": "code",
   "execution_count": 42,
   "metadata": {},
   "outputs": [],
   "source": [
    "w_init = weights[0][0][0]"
   ]
  },
  {
   "cell_type": "code",
   "execution_count": 43,
   "metadata": {},
   "outputs": [],
   "source": [
    "b_init = weights[1][0]"
   ]
  },
  {
   "cell_type": "code",
   "execution_count": 44,
   "metadata": {},
   "outputs": [
    {
     "name": "stdout",
     "output_type": "stream",
     "text": [
      "Linear regression model is initialized with weights w: 0.02, b:0.00\n"
     ]
    }
   ],
   "source": [
    "print('Linear regression model is initialized with weights w: %.2f, b:%.2f' % (w_init, b_init))"
   ]
  },
  {
   "cell_type": "code",
   "execution_count": 45,
   "metadata": {},
   "outputs": [],
   "source": [
    "# defining the error amd loss function\n",
    "model.compile(optimizer='sgd', loss='mse')"
   ]
  },
  {
   "cell_type": "code",
   "execution_count": 47,
   "metadata": {},
   "outputs": [
    {
     "name": "stdout",
     "output_type": "stream",
     "text": [
      "Epoch 1/10\n",
      "101/101 [==============================] - 0s 148us/step - loss: 0.1032\n",
      "Epoch 2/10\n",
      "101/101 [==============================] - 0s 190us/step - loss: 0.1031\n",
      "Epoch 3/10\n",
      "101/101 [==============================] - 0s 144us/step - loss: 0.1032\n",
      "Epoch 4/10\n",
      "101/101 [==============================] - 0s 88us/step - loss: 0.1031\n",
      "Epoch 5/10\n",
      "101/101 [==============================] - 0s 56us/step - loss: 0.1032\n",
      "Epoch 6/10\n",
      "101/101 [==============================] - 0s 51us/step - loss: 0.1031\n",
      "Epoch 7/10\n",
      "101/101 [==============================] - 0s 101us/step - loss: 0.1031\n",
      "Epoch 8/10\n",
      "101/101 [==============================] - 0s 117us/step - loss: 0.1031\n",
      "Epoch 9/10\n",
      "101/101 [==============================] - 0s 105us/step - loss: 0.1030\n",
      "Epoch 10/10\n",
      "101/101 [==============================] - 0s 135us/step - loss: 0.1030\n"
     ]
    },
    {
     "name": "stderr",
     "output_type": "stream",
     "text": [
      "/home/ivan/Environments/CV/lib/python3.5/site-packages/ipykernel_launcher.py:2: UserWarning: The `nb_epoch` argument in `fit` has been renamed `epochs`.\n",
      "  \n"
     ]
    },
    {
     "data": {
      "text/plain": [
       "<keras.callbacks.History at 0x7f36e733da90>"
      ]
     },
     "execution_count": 47,
     "metadata": {},
     "output_type": "execute_result"
    }
   ],
   "source": [
    "# feed the data using fit function\n",
    "model.fit(trX, trY, nb_epoch=10, verbose=1)"
   ]
  },
  {
   "cell_type": "code",
   "execution_count": 48,
   "metadata": {},
   "outputs": [],
   "source": [
    "# print to see results\n",
    "weights = model.layers[0].get_weights()"
   ]
  },
  {
   "cell_type": "code",
   "execution_count": 49,
   "metadata": {},
   "outputs": [],
   "source": [
    "w_final = weights[0][0][0]"
   ]
  },
  {
   "cell_type": "code",
   "execution_count": 50,
   "metadata": {},
   "outputs": [],
   "source": [
    "b_final = weights[1][0]"
   ]
  },
  {
   "cell_type": "code",
   "execution_count": 51,
   "metadata": {},
   "outputs": [
    {
     "name": "stdout",
     "output_type": "stream",
     "text": [
      "linear regression model is trained to have weights w: 3.06, b: -0.01\n"
     ]
    }
   ],
   "source": [
    "print('linear regression model is trained to have weights w: %.2f, b: %.2f' % (w_final, b_final))"
   ]
  },
  {
   "cell_type": "markdown",
   "metadata": {},
   "source": [
    "### saving and restoring pre-trained weights using keras"
   ]
  },
  {
   "cell_type": "code",
   "execution_count": 52,
   "metadata": {},
   "outputs": [],
   "source": [
    "# attention to hdf5 binary format"
   ]
  },
  {
   "cell_type": "code",
   "execution_count": 53,
   "metadata": {},
   "outputs": [],
   "source": [
    "# hdf5 is a great format to store huge amount of numerical data and manipulate it from numpy"
   ]
  },
  {
   "cell_type": "code",
   "execution_count": 54,
   "metadata": {},
   "outputs": [],
   "source": [
    "# hdf5 rests on an object oriented python wrapping of the hdf5"
   ]
  },
  {
   "cell_type": "code",
   "execution_count": 55,
   "metadata": {},
   "outputs": [],
   "source": [
    "# saving weights \n",
    "model.save_weights(\"my_model.h5\")"
   ]
  },
  {
   "cell_type": "code",
   "execution_count": 56,
   "metadata": {},
   "outputs": [
    {
     "name": "stdout",
     "output_type": "stream",
     "text": [
      "-rw-rw-r--  1 ivan ivan   10512 awu 24 15:03 my_model.h5\r\n"
     ]
    }
   ],
   "source": [
    "! ls -all | grep 'h5'"
   ]
  },
  {
   "cell_type": "code",
   "execution_count": 58,
   "metadata": {},
   "outputs": [],
   "source": [
    "# restoring pre-trained models\n",
    "model.load_weights('my_model.h5')"
   ]
  },
  {
   "cell_type": "code",
   "execution_count": 59,
   "metadata": {},
   "outputs": [
    {
     "name": "stdout",
     "output_type": "stream",
     "text": [
      "my_model.h5\r\n"
     ]
    }
   ],
   "source": [
    "! ls | grep 'h5'"
   ]
  },
  {
   "cell_type": "code",
   "execution_count": null,
   "metadata": {},
   "outputs": [],
   "source": []
  }
 ],
 "metadata": {
  "kernelspec": {
   "display_name": "Python 3",
   "language": "python",
   "name": "python3"
  },
  "language_info": {
   "codemirror_mode": {
    "name": "ipython",
    "version": 3
   },
   "file_extension": ".py",
   "mimetype": "text/x-python",
   "name": "python",
   "nbconvert_exporter": "python",
   "pygments_lexer": "ipython3",
   "version": "3.5.2"
  }
 },
 "nbformat": 4,
 "nbformat_minor": 2
}
